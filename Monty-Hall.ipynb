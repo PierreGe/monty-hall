{
 "cells": [
  {
   "cell_type": "code",
   "execution_count": 1,
   "metadata": {},
   "outputs": [],
   "source": [
    "import random"
   ]
  },
  {
   "cell_type": "markdown",
   "metadata": {},
   "source": [
    "Writing the code for this simple simulation really make us understand why switching lead to best probable outcome"
   ]
  },
  {
   "cell_type": "code",
   "execution_count": 2,
   "metadata": {},
   "outputs": [],
   "source": [
    "# let's put the car somewhere\n",
    "def get_random_doors():\n",
    "    doors = [False,False,True]\n",
    "    random.shuffle(doors)\n",
    "    return doors"
   ]
  },
  {
   "cell_type": "code",
   "execution_count": 8,
   "metadata": {},
   "outputs": [
    {
     "name": "stdout",
     "output_type": "stream",
     "text": [
      "Sticking with initial choice : p=0.3282 of winning\n"
     ]
    }
   ],
   "source": [
    "# let's choose number one, and stick with it\n",
    "n_win = 0.\n",
    "n_sample = 10000\n",
    "for i in range(n_sample):\n",
    "    choice = 0\n",
    "    doors = get_random_doors()\n",
    "    # monty open door 2 or 3 \n",
    "    # but we keep door 1\n",
    "    if doors[choice]:\n",
    "        n_win+=1\n",
    "    else:\n",
    "        n_win+=0\n",
    "print('Sticking with initial choice : p={} of winning'.format(n_win/n_sample))"
   ]
  },
  {
   "cell_type": "code",
   "execution_count": 7,
   "metadata": {},
   "outputs": [
    {
     "name": "stdout",
     "output_type": "stream",
     "text": [
      "Switching initial choice : p=0.6626 of winning\n"
     ]
    }
   ],
   "source": [
    "# let's choose number one, and switch to the one\n",
    "# not opened\n",
    "n_win = 0.\n",
    "n_sample = 10000\n",
    "for i in range(n_sample):\n",
    "    choice = 0\n",
    "    doors = get_random_doors()\n",
    "    # We choose one\n",
    "    # Monty open one of those other doors with a goat\n",
    "    opened = 1 if not doors[1] else 2\n",
    "    not_opened = 2 if opened==1 else 1\n",
    "    if doors[not_opened]:\n",
    "        n_win+=1\n",
    "    else:\n",
    "        n_win+=0\n",
    "print('Switching initial choice : p={} of winning'.format(n_win/n_sample))"
   ]
  },
  {
   "cell_type": "code",
   "execution_count": null,
   "metadata": {},
   "outputs": [],
   "source": []
  }
 ],
 "metadata": {
  "kernelspec": {
   "display_name": "Python 2",
   "language": "python",
   "name": "python2"
  },
  "language_info": {
   "codemirror_mode": {
    "name": "ipython",
    "version": 2
   },
   "file_extension": ".py",
   "mimetype": "text/x-python",
   "name": "python",
   "nbconvert_exporter": "python",
   "pygments_lexer": "ipython2",
   "version": "2.7.10"
  }
 },
 "nbformat": 4,
 "nbformat_minor": 2
}
